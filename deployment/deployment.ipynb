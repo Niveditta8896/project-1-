{
 "cells": [
  {
   "cell_type": "code",
   "execution_count": 1,
   "id": "43564613",
   "metadata": {},
   "outputs": [],
   "source": [
    "import pandas as pd\n",
    "import numpy as np\n",
    "import pickle"
   ]
  },
  {
   "cell_type": "code",
   "execution_count": 3,
   "id": "d8643bbc",
   "metadata": {},
   "outputs": [
    {
     "name": "stdout",
     "output_type": "stream",
     "text": [
      "what is the screen resolution?IPS Panel Retina Display 2560x1600\n",
      "type of CPU?Intel Core i5 2.3GHz\n",
      "type of ram?8GB\t\n",
      "type of gpu?Intel Iris Plus Graphics 640\n",
      "type of opsys?macOS\n"
     ]
    }
   ],
   "source": [
    "ScreenResolution=input(\"what is the screen resolution?\")\n",
    "Cpu=input(\"type of CPU?\")\n",
    "Ram=input(\"type of ram?\")\n",
    "Gpu=input(\"type of gpu?\")\n",
    "opsys=input(\"type of opsys?\")"
   ]
  },
  {
   "cell_type": "code",
   "execution_count": 4,
   "id": "4334a607",
   "metadata": {},
   "outputs": [],
   "source": [
    "independent=[[ScreenResolution,Cpu,Ram,Gpu,opsys]]\n",
    "column=[\"ScreenResolution\",\"Cpu\",\"Ram\",\"Gpu\",\"opsys\"]"
   ]
  },
  {
   "cell_type": "code",
   "execution_count": 5,
   "id": "32b71498",
   "metadata": {},
   "outputs": [
    {
     "data": {
      "text/plain": [
       "[['IPS Panel Retina Display 2560x1600',\n",
       "  'Intel Core i5 2.3GHz',\n",
       "  '8GB\\t',\n",
       "  'Intel Iris Plus Graphics 640',\n",
       "  'macOS']]"
      ]
     },
     "execution_count": 5,
     "metadata": {},
     "output_type": "execute_result"
    }
   ],
   "source": [
    "independent"
   ]
  },
  {
   "cell_type": "code",
   "execution_count": 7,
   "id": "b99fc10b",
   "metadata": {},
   "outputs": [
    {
     "data": {
      "text/plain": [
       "['ScreenResolution', 'Cpu', 'Ram', 'Gpu', 'opsys']"
      ]
     },
     "execution_count": 7,
     "metadata": {},
     "output_type": "execute_result"
    }
   ],
   "source": [
    "column"
   ]
  },
  {
   "cell_type": "code",
   "execution_count": 8,
   "id": "fe241c04",
   "metadata": {},
   "outputs": [],
   "source": [
    "input_table=pd.DataFrame(independent,columns=column)"
   ]
  },
  {
   "cell_type": "code",
   "execution_count": 9,
   "id": "417e21a8",
   "metadata": {},
   "outputs": [
    {
     "data": {
      "text/html": [
       "<div>\n",
       "<style scoped>\n",
       "    .dataframe tbody tr th:only-of-type {\n",
       "        vertical-align: middle;\n",
       "    }\n",
       "\n",
       "    .dataframe tbody tr th {\n",
       "        vertical-align: top;\n",
       "    }\n",
       "\n",
       "    .dataframe thead th {\n",
       "        text-align: right;\n",
       "    }\n",
       "</style>\n",
       "<table border=\"1\" class=\"dataframe\">\n",
       "  <thead>\n",
       "    <tr style=\"text-align: right;\">\n",
       "      <th></th>\n",
       "      <th>ScreenResolution</th>\n",
       "      <th>Cpu</th>\n",
       "      <th>Ram</th>\n",
       "      <th>Gpu</th>\n",
       "      <th>opsys</th>\n",
       "    </tr>\n",
       "  </thead>\n",
       "  <tbody>\n",
       "    <tr>\n",
       "      <th>0</th>\n",
       "      <td>IPS Panel Retina Display 2560x1600</td>\n",
       "      <td>Intel Core i5 2.3GHz</td>\n",
       "      <td>8GB\\t</td>\n",
       "      <td>Intel Iris Plus Graphics 640</td>\n",
       "      <td>macOS</td>\n",
       "    </tr>\n",
       "  </tbody>\n",
       "</table>\n",
       "</div>"
      ],
      "text/plain": [
       "                     ScreenResolution                   Cpu    Ram  \\\n",
       "0  IPS Panel Retina Display 2560x1600  Intel Core i5 2.3GHz  8GB\\t   \n",
       "\n",
       "                            Gpu  opsys  \n",
       "0  Intel Iris Plus Graphics 640  macOS  "
      ]
     },
     "execution_count": 9,
     "metadata": {},
     "output_type": "execute_result"
    }
   ],
   "source": [
    "input_table"
   ]
  },
  {
   "cell_type": "code",
   "execution_count": 10,
   "id": "6abc5981",
   "metadata": {},
   "outputs": [],
   "source": [
    "scx=pickle.load(open(\"scx.sav\",\"rb\"))\n",
    "encode=pickle.load(open(\"coding.sav\",\"rb\"))"
   ]
  },
  {
   "cell_type": "code",
   "execution_count": 11,
   "id": "4d86097e",
   "metadata": {},
   "outputs": [],
   "source": [
    "for col in input_table:\n",
    "    input_table[col]=encode.fit_transform(input_table[col])"
   ]
  },
  {
   "cell_type": "code",
   "execution_count": 12,
   "id": "7834a2e7",
   "metadata": {},
   "outputs": [
    {
     "name": "stderr",
     "output_type": "stream",
     "text": [
      "C:\\Users\\nimmy\\anaconda3\\envs\\aiml\\lib\\site-packages\\sklearn\\base.py:444: UserWarning: X has feature names, but StandardScaler was fitted without feature names\n",
      "  f\"X has feature names, but {self.__class__.__name__} was fitted without\"\n"
     ]
    }
   ],
   "source": [
    "final_input=scx.transform(input_table)"
   ]
  },
  {
   "cell_type": "code",
   "execution_count": 13,
   "id": "36c8fafb",
   "metadata": {},
   "outputs": [],
   "source": [
    "model=pickle.load(open(\"model.sav\",\"rb\"))"
   ]
  },
  {
   "cell_type": "code",
   "execution_count": 14,
   "id": "0a441650",
   "metadata": {},
   "outputs": [
    {
     "data": {
      "text/plain": [
       "array([51549.32313943])"
      ]
     },
     "execution_count": 14,
     "metadata": {},
     "output_type": "execute_result"
    }
   ],
   "source": [
    "model.predict(final_input)"
   ]
  },
  {
   "cell_type": "code",
   "execution_count": null,
   "id": "299ec505",
   "metadata": {},
   "outputs": [],
   "source": []
  }
 ],
 "metadata": {
  "kernelspec": {
   "display_name": "Python 3 (ipykernel)",
   "language": "python",
   "name": "python3"
  },
  "language_info": {
   "codemirror_mode": {
    "name": "ipython",
    "version": 3
   },
   "file_extension": ".py",
   "mimetype": "text/x-python",
   "name": "python",
   "nbconvert_exporter": "python",
   "pygments_lexer": "ipython3",
   "version": "3.7.1"
  }
 },
 "nbformat": 4,
 "nbformat_minor": 5
}
