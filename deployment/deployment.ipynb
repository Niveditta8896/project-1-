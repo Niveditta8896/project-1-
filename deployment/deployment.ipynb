{
 "cells": [
  {
   "cell_type": "code",
   "execution_count": 1,
   "id": "db651b9d",
   "metadata": {},
   "outputs": [],
   "source": [
    "import pandas as pd\n",
    "import numpy as np\n",
    "import pickle"
   ]
  },
  {
   "cell_type": "code",
   "execution_count": 2,
   "id": "f24cebd1",
   "metadata": {},
   "outputs": [
    {
     "name": "stdout",
     "output_type": "stream",
     "text": [
      "what is the screen resolution?Full HD 1920x1080\n",
      "type of CPU?Intel Core i5 2.3GHz\t\n",
      "type of ram?16GB\n",
      "type of gpu?AMD Radeon Pro 455\n",
      "type of opsys?macOS\n"
     ]
    }
   ],
   "source": [
    "ScreenResolution=input(\"what is the screen resolution?\")\n",
    "Cpu=input(\"type of CPU?\")\n",
    "Ram=input(\"type of ram?\")\n",
    "Gpu=input(\"type of gpu?\")\n",
    "opsys=input(\"type of opsys?\")"
   ]
  },
  {
   "cell_type": "code",
   "execution_count": 8,
   "id": "4e86739b",
   "metadata": {},
   "outputs": [],
   "source": [
    "independent=[[ScreenResolution,Cpu,Ram,Gpu,opsys]]\n",
    "column=[\"ScreenResolution\",\"Cpu\",\"Ram\",\"Gpu\",\"opsys\"]"
   ]
  },
  {
   "cell_type": "code",
   "execution_count": 9,
   "id": "fc1a9603",
   "metadata": {},
   "outputs": [
    {
     "data": {
      "text/plain": [
       "[['Full HD 1920x1080',\n",
       "  'Intel Core i5 2.3GHz\\t',\n",
       "  '16GB',\n",
       "  'AMD Radeon Pro 455',\n",
       "  'macOS']]"
      ]
     },
     "execution_count": 9,
     "metadata": {},
     "output_type": "execute_result"
    }
   ],
   "source": [
    "independent"
   ]
  },
  {
   "cell_type": "code",
   "execution_count": 10,
   "id": "da395b16",
   "metadata": {},
   "outputs": [
    {
     "data": {
      "text/plain": [
       "['ScreenResolution', 'Cpu', 'Ram', 'Gpu', 'opsys']"
      ]
     },
     "execution_count": 10,
     "metadata": {},
     "output_type": "execute_result"
    }
   ],
   "source": [
    "columns"
   ]
  },
  {
   "cell_type": "code",
   "execution_count": 11,
   "id": "f4c7fcb9",
   "metadata": {},
   "outputs": [],
   "source": [
    "input_table=pd.DataFrame(independent,columns=column)"
   ]
  },
  {
   "cell_type": "code",
   "execution_count": 12,
   "id": "bc57c147",
   "metadata": {},
   "outputs": [
    {
     "data": {
      "text/html": [
       "<div>\n",
       "<style scoped>\n",
       "    .dataframe tbody tr th:only-of-type {\n",
       "        vertical-align: middle;\n",
       "    }\n",
       "\n",
       "    .dataframe tbody tr th {\n",
       "        vertical-align: top;\n",
       "    }\n",
       "\n",
       "    .dataframe thead th {\n",
       "        text-align: right;\n",
       "    }\n",
       "</style>\n",
       "<table border=\"1\" class=\"dataframe\">\n",
       "  <thead>\n",
       "    <tr style=\"text-align: right;\">\n",
       "      <th></th>\n",
       "      <th>ScreenResolution</th>\n",
       "      <th>Cpu</th>\n",
       "      <th>Ram</th>\n",
       "      <th>Gpu</th>\n",
       "      <th>opsys</th>\n",
       "    </tr>\n",
       "  </thead>\n",
       "  <tbody>\n",
       "    <tr>\n",
       "      <th>0</th>\n",
       "      <td>Full HD 1920x1080</td>\n",
       "      <td>Intel Core i5 2.3GHz\\t</td>\n",
       "      <td>16GB</td>\n",
       "      <td>AMD Radeon Pro 455</td>\n",
       "      <td>macOS</td>\n",
       "    </tr>\n",
       "  </tbody>\n",
       "</table>\n",
       "</div>"
      ],
      "text/plain": [
       "    ScreenResolution                     Cpu   Ram                 Gpu  opsys\n",
       "0  Full HD 1920x1080  Intel Core i5 2.3GHz\\t  16GB  AMD Radeon Pro 455  macOS"
      ]
     },
     "execution_count": 12,
     "metadata": {},
     "output_type": "execute_result"
    }
   ],
   "source": [
    "input_table"
   ]
  },
  {
   "cell_type": "code",
   "execution_count": 13,
   "id": "20c8bf65",
   "metadata": {},
   "outputs": [],
   "source": [
    "scx=pickle.load(open(\"scx\",\"rb\"))\n",
    "encode=pickle.load(open(\"coding\",\"rb\"))"
   ]
  },
  {
   "cell_type": "code",
   "execution_count": 14,
   "id": "f1d9ef50",
   "metadata": {},
   "outputs": [],
   "source": [
    "for col in input_table:\n",
    "    input_table[col]=encode.fit_transform(input_table[col])"
   ]
  },
  {
   "cell_type": "code",
   "execution_count": 15,
   "id": "6ce58590",
   "metadata": {},
   "outputs": [
    {
     "name": "stderr",
     "output_type": "stream",
     "text": [
      "C:\\Users\\nimmy\\anaconda3\\envs\\aiml\\lib\\site-packages\\sklearn\\base.py:444: UserWarning: X has feature names, but StandardScaler was fitted without feature names\n",
      "  f\"X has feature names, but {self.__class__.__name__} was fitted without\"\n"
     ]
    }
   ],
   "source": [
    "final_input=scx.transform(input_table)"
   ]
  },
  {
   "cell_type": "code",
   "execution_count": 17,
   "id": "ecbbbdee",
   "metadata": {},
   "outputs": [],
   "source": [
    "model=pickle.load(open(\"model\",\"rb\"))"
   ]
  },
  {
   "cell_type": "code",
   "execution_count": 18,
   "id": "a3b607ba",
   "metadata": {},
   "outputs": [
    {
     "data": {
      "text/plain": [
       "array([51549.32313943])"
      ]
     },
     "execution_count": 18,
     "metadata": {},
     "output_type": "execute_result"
    }
   ],
   "source": [
    "model.predict(final_input)"
   ]
  },
  {
   "cell_type": "code",
   "execution_count": null,
   "id": "ba2a308f",
   "metadata": {},
   "outputs": [],
   "source": []
  }
 ],
 "metadata": {
  "kernelspec": {
   "display_name": "Python 3 (ipykernel)",
   "language": "python",
   "name": "python3"
  },
  "language_info": {
   "codemirror_mode": {
    "name": "ipython",
    "version": 3
   },
   "file_extension": ".py",
   "mimetype": "text/x-python",
   "name": "python",
   "nbconvert_exporter": "python",
   "pygments_lexer": "ipython3",
   "version": "3.7.1"
  }
 },
 "nbformat": 4,
 "nbformat_minor": 5
}
