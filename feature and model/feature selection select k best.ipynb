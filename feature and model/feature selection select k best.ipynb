{
 "cells": [
  {
   "cell_type": "code",
   "execution_count": 411,
   "id": "1b470354",
   "metadata": {},
   "outputs": [],
   "source": [
    "import pandas as pd\n",
    "import numpy as np\n",
    "import pickle"
   ]
  },
  {
   "cell_type": "code",
   "execution_count": 412,
   "id": "505b5933",
   "metadata": {},
   "outputs": [],
   "source": [
    "dataset=pd.read_csv(\"computer_dataset_clean.csv\")"
   ]
  },
  {
   "cell_type": "code",
   "execution_count": 413,
   "id": "38fb8eae",
   "metadata": {},
   "outputs": [
    {
     "data": {
      "text/plain": [
       "Unnamed: 0          0\n",
       "Company             0\n",
       "TypeName            0\n",
       "Inches              0\n",
       "ScreenResolution    0\n",
       "Cpu                 0\n",
       "Ram                 0\n",
       "Memory              0\n",
       "Gpu                 0\n",
       "OpSys               0\n",
       "Weight              0\n",
       "Price               0\n",
       "dtype: int64"
      ]
     },
     "execution_count": 413,
     "metadata": {},
     "output_type": "execute_result"
    }
   ],
   "source": [
    "dataset.isna().sum()\n",
    "dataset[\"Weight\"].fillna(\"0.0\",inplace=True)\n",
    "dataset.isna().sum()"
   ]
  },
  {
   "cell_type": "code",
   "execution_count": 414,
   "id": "42870408",
   "metadata": {},
   "outputs": [
    {
     "data": {
      "text/plain": [
       "(1243, 12)"
      ]
     },
     "execution_count": 414,
     "metadata": {},
     "output_type": "execute_result"
    }
   ],
   "source": [
    "dataset.shape"
   ]
  },
  {
   "cell_type": "markdown",
   "id": "55ef2eaa",
   "metadata": {},
   "source": [
    "# 1 drop categorical data"
   ]
  },
  {
   "cell_type": "code",
   "execution_count": 415,
   "id": "31468e92",
   "metadata": {},
   "outputs": [
    {
     "data": {
      "text/plain": [
       "['Unnamed: 0',\n",
       " 'Company',\n",
       " 'TypeName',\n",
       " 'ScreenResolution',\n",
       " 'Cpu',\n",
       " 'Ram',\n",
       " 'Memory',\n",
       " 'Gpu',\n",
       " 'OpSys',\n",
       " 'Weight']"
      ]
     },
     "execution_count": 415,
     "metadata": {},
     "output_type": "execute_result"
    }
   ],
   "source": [
    "lis_col=['Unnamed: 0', 'Company', 'TypeName', 'ScreenResolution',\n",
    "       'Cpu', 'Ram', 'Memory', 'Gpu', 'OpSys', 'Weight']\n",
    "lis_col"
   ]
  },
  {
   "cell_type": "code",
   "execution_count": 416,
   "id": "79ce69c4",
   "metadata": {},
   "outputs": [],
   "source": [
    "\n",
    "from sklearn.preprocessing import LabelEncoder\n",
    "\n",
    "encoder = LabelEncoder()\n",
    "\n",
    "for col in lis_col:  # Replace with actual column names\n",
    "    dataset[col] = encoder.fit_transform(dataset[col])\n",
    "\n",
    "pickle.dump(encoder,open(\"coding\",\"wb\"))"
   ]
  },
  {
   "cell_type": "code",
   "execution_count": 417,
   "id": "68be5e98",
   "metadata": {},
   "outputs": [
    {
     "data": {
      "text/html": [
       "<div>\n",
       "<style scoped>\n",
       "    .dataframe tbody tr th:only-of-type {\n",
       "        vertical-align: middle;\n",
       "    }\n",
       "\n",
       "    .dataframe tbody tr th {\n",
       "        vertical-align: top;\n",
       "    }\n",
       "\n",
       "    .dataframe thead th {\n",
       "        text-align: right;\n",
       "    }\n",
       "</style>\n",
       "<table border=\"1\" class=\"dataframe\">\n",
       "  <thead>\n",
       "    <tr style=\"text-align: right;\">\n",
       "      <th></th>\n",
       "      <th>Unnamed: 0</th>\n",
       "      <th>Company</th>\n",
       "      <th>TypeName</th>\n",
       "      <th>Inches</th>\n",
       "      <th>ScreenResolution</th>\n",
       "      <th>Cpu</th>\n",
       "      <th>Ram</th>\n",
       "      <th>Memory</th>\n",
       "      <th>Gpu</th>\n",
       "      <th>OpSys</th>\n",
       "      <th>Weight</th>\n",
       "      <th>Price</th>\n",
       "    </tr>\n",
       "  </thead>\n",
       "  <tbody>\n",
       "    <tr>\n",
       "      <th>0</th>\n",
       "      <td>0</td>\n",
       "      <td>1</td>\n",
       "      <td>4</td>\n",
       "      <td>13.3</td>\n",
       "      <td>23</td>\n",
       "      <td>65</td>\n",
       "      <td>9</td>\n",
       "      <td>4</td>\n",
       "      <td>58</td>\n",
       "      <td>8</td>\n",
       "      <td>40</td>\n",
       "      <td>71378.6832</td>\n",
       "    </tr>\n",
       "    <tr>\n",
       "      <th>1</th>\n",
       "      <td>1</td>\n",
       "      <td>1</td>\n",
       "      <td>4</td>\n",
       "      <td>13.3</td>\n",
       "      <td>1</td>\n",
       "      <td>63</td>\n",
       "      <td>9</td>\n",
       "      <td>2</td>\n",
       "      <td>51</td>\n",
       "      <td>8</td>\n",
       "      <td>37</td>\n",
       "      <td>47895.5232</td>\n",
       "    </tr>\n",
       "    <tr>\n",
       "      <th>2</th>\n",
       "      <td>2</td>\n",
       "      <td>7</td>\n",
       "      <td>3</td>\n",
       "      <td>15.6</td>\n",
       "      <td>8</td>\n",
       "      <td>74</td>\n",
       "      <td>9</td>\n",
       "      <td>16</td>\n",
       "      <td>53</td>\n",
       "      <td>4</td>\n",
       "      <td>76</td>\n",
       "      <td>30636.0000</td>\n",
       "    </tr>\n",
       "    <tr>\n",
       "      <th>3</th>\n",
       "      <td>3</td>\n",
       "      <td>1</td>\n",
       "      <td>4</td>\n",
       "      <td>15.4</td>\n",
       "      <td>25</td>\n",
       "      <td>85</td>\n",
       "      <td>1</td>\n",
       "      <td>29</td>\n",
       "      <td>9</td>\n",
       "      <td>8</td>\n",
       "      <td>73</td>\n",
       "      <td>135195.3360</td>\n",
       "    </tr>\n",
       "    <tr>\n",
       "      <th>4</th>\n",
       "      <td>4</td>\n",
       "      <td>1</td>\n",
       "      <td>4</td>\n",
       "      <td>13.3</td>\n",
       "      <td>23</td>\n",
       "      <td>67</td>\n",
       "      <td>9</td>\n",
       "      <td>16</td>\n",
       "      <td>59</td>\n",
       "      <td>8</td>\n",
       "      <td>40</td>\n",
       "      <td>96095.8080</td>\n",
       "    </tr>\n",
       "    <tr>\n",
       "      <th>...</th>\n",
       "      <td>...</td>\n",
       "      <td>...</td>\n",
       "      <td>...</td>\n",
       "      <td>...</td>\n",
       "      <td>...</td>\n",
       "      <td>...</td>\n",
       "      <td>...</td>\n",
       "      <td>...</td>\n",
       "      <td>...</td>\n",
       "      <td>...</td>\n",
       "      <td>...</td>\n",
       "      <td>...</td>\n",
       "    </tr>\n",
       "    <tr>\n",
       "      <th>1238</th>\n",
       "      <td>1238</td>\n",
       "      <td>2</td>\n",
       "      <td>3</td>\n",
       "      <td>15.6</td>\n",
       "      <td>0</td>\n",
       "      <td>89</td>\n",
       "      <td>6</td>\n",
       "      <td>26</td>\n",
       "      <td>65</td>\n",
       "      <td>5</td>\n",
       "      <td>116</td>\n",
       "      <td>38378.6496</td>\n",
       "    </tr>\n",
       "    <tr>\n",
       "      <th>1239</th>\n",
       "      <td>1239</td>\n",
       "      <td>10</td>\n",
       "      <td>0</td>\n",
       "      <td>14.0</td>\n",
       "      <td>13</td>\n",
       "      <td>89</td>\n",
       "      <td>6</td>\n",
       "      <td>4</td>\n",
       "      <td>47</td>\n",
       "      <td>5</td>\n",
       "      <td>80</td>\n",
       "      <td>33992.6400</td>\n",
       "    </tr>\n",
       "    <tr>\n",
       "      <th>1240</th>\n",
       "      <td>1240</td>\n",
       "      <td>10</td>\n",
       "      <td>0</td>\n",
       "      <td>13.3</td>\n",
       "      <td>19</td>\n",
       "      <td>89</td>\n",
       "      <td>1</td>\n",
       "      <td>29</td>\n",
       "      <td>47</td>\n",
       "      <td>5</td>\n",
       "      <td>43</td>\n",
       "      <td>79866.7200</td>\n",
       "    </tr>\n",
       "    <tr>\n",
       "      <th>1241</th>\n",
       "      <td>1241</td>\n",
       "      <td>10</td>\n",
       "      <td>3</td>\n",
       "      <td>14.0</td>\n",
       "      <td>0</td>\n",
       "      <td>34</td>\n",
       "      <td>4</td>\n",
       "      <td>35</td>\n",
       "      <td>40</td>\n",
       "      <td>5</td>\n",
       "      <td>58</td>\n",
       "      <td>12201.1200</td>\n",
       "    </tr>\n",
       "    <tr>\n",
       "      <th>1242</th>\n",
       "      <td>1242</td>\n",
       "      <td>7</td>\n",
       "      <td>3</td>\n",
       "      <td>15.6</td>\n",
       "      <td>0</td>\n",
       "      <td>89</td>\n",
       "      <td>8</td>\n",
       "      <td>10</td>\n",
       "      <td>21</td>\n",
       "      <td>5</td>\n",
       "      <td>107</td>\n",
       "      <td>40705.9200</td>\n",
       "    </tr>\n",
       "  </tbody>\n",
       "</table>\n",
       "<p>1243 rows × 12 columns</p>\n",
       "</div>"
      ],
      "text/plain": [
       "      Unnamed: 0  Company  TypeName  Inches  ScreenResolution  Cpu  Ram  \\\n",
       "0              0        1         4    13.3                23   65    9   \n",
       "1              1        1         4    13.3                 1   63    9   \n",
       "2              2        7         3    15.6                 8   74    9   \n",
       "3              3        1         4    15.4                25   85    1   \n",
       "4              4        1         4    13.3                23   67    9   \n",
       "...          ...      ...       ...     ...               ...  ...  ...   \n",
       "1238        1238        2         3    15.6                 0   89    6   \n",
       "1239        1239       10         0    14.0                13   89    6   \n",
       "1240        1240       10         0    13.3                19   89    1   \n",
       "1241        1241       10         3    14.0                 0   34    4   \n",
       "1242        1242        7         3    15.6                 0   89    8   \n",
       "\n",
       "      Memory  Gpu  OpSys  Weight        Price  \n",
       "0          4   58      8      40   71378.6832  \n",
       "1          2   51      8      37   47895.5232  \n",
       "2         16   53      4      76   30636.0000  \n",
       "3         29    9      8      73  135195.3360  \n",
       "4         16   59      8      40   96095.8080  \n",
       "...      ...  ...    ...     ...          ...  \n",
       "1238      26   65      5     116   38378.6496  \n",
       "1239       4   47      5      80   33992.6400  \n",
       "1240      29   47      5      43   79866.7200  \n",
       "1241      35   40      5      58   12201.1200  \n",
       "1242      10   21      5     107   40705.9200  \n",
       "\n",
       "[1243 rows x 12 columns]"
      ]
     },
     "execution_count": 417,
     "metadata": {},
     "output_type": "execute_result"
    }
   ],
   "source": [
    "dataset"
   ]
  },
  {
   "cell_type": "code",
   "execution_count": 418,
   "id": "8b703eb6",
   "metadata": {},
   "outputs": [],
   "source": [
    "independent=dataset.drop(\"Price\",axis=1)\n",
    "dependent=dataset[\"Price\"]"
   ]
  },
  {
   "cell_type": "markdown",
   "id": "6f480a17",
   "metadata": {},
   "source": [
    "# 2 we r going to select the best features"
   ]
  },
  {
   "cell_type": "code",
   "execution_count": 419,
   "id": "2cd90171",
   "metadata": {},
   "outputs": [],
   "source": [
    "from sklearn.feature_selection import SelectKBest\n",
    "from sklearn.feature_selection import f_regression\n",
    "def selectk(n,independent,dependent):\n",
    "    model=SelectKBest(k=n,score_func=f_regression)\n",
    "    model.fit(independent,dependent)\n",
    "    selected_feature_names = independent.columns[model.get_support()]\n",
    "    selected_features=model.transform(independent)\n",
    "    return selected_features,selected_feature_names \n"
   ]
  },
  {
   "cell_type": "code",
   "execution_count": 420,
   "id": "b0ab5a40",
   "metadata": {},
   "outputs": [],
   "source": [
    "kbest,selected_feature_names=selectk(5,independent,dependent)"
   ]
  },
  {
   "cell_type": "code",
   "execution_count": 421,
   "id": "1ff48da7",
   "metadata": {},
   "outputs": [
    {
     "data": {
      "text/plain": [
       "array([[23., 65.,  9., 58.,  8.],\n",
       "       [ 1., 63.,  9., 51.,  8.],\n",
       "       [ 8., 74.,  9., 53.,  4.],\n",
       "       ...,\n",
       "       [19., 89.,  1., 47.,  5.],\n",
       "       [ 0., 34.,  4., 40.,  5.],\n",
       "       [ 0., 89.,  8., 21.,  5.]])"
      ]
     },
     "execution_count": 421,
     "metadata": {},
     "output_type": "execute_result"
    }
   ],
   "source": [
    "kbest"
   ]
  },
  {
   "cell_type": "code",
   "execution_count": 422,
   "id": "20423049",
   "metadata": {},
   "outputs": [
    {
     "data": {
      "text/plain": [
       "Index(['ScreenResolution', 'Cpu', 'Ram', 'Gpu', 'OpSys'], dtype='object')"
      ]
     },
     "execution_count": 422,
     "metadata": {},
     "output_type": "execute_result"
    }
   ],
   "source": [
    "selected_feature_names"
   ]
  },
  {
   "cell_type": "markdown",
   "id": "9f85f04d",
   "metadata": {},
   "source": [
    "# 3 splitting and standardisation"
   ]
  },
  {
   "cell_type": "code",
   "execution_count": 423,
   "id": "a948006b",
   "metadata": {},
   "outputs": [],
   "source": [
    "from sklearn.model_selection import train_test_split\n",
    "from sklearn.preprocessing import StandardScaler\n",
    "def split_scaler(independent,dependent):\n",
    "    \n",
    "    x_train,x_test,y_train,y_test=train_test_split(independent,dependent,test_size=0.30,random_state=False)\n",
    "    sc=StandardScaler()\n",
    "    x_train=sc.fit_transform(x_train)\n",
    "    x_test=sc.transform(x_test)\n",
    "    return x_train,x_test,y_train,y_test,sc"
   ]
  },
  {
   "cell_type": "code",
   "execution_count": 424,
   "id": "f8d66d90",
   "metadata": {},
   "outputs": [],
   "source": [
    "x_train,x_test,y_train,y_test,SC=split_scaler(kbest,dependent)"
   ]
  },
  {
   "cell_type": "code",
   "execution_count": 425,
   "id": "3a8e7a18",
   "metadata": {},
   "outputs": [],
   "source": [
    "SC\n",
    "pickle.dump(SC,open(\"scx\",\"wb\"))"
   ]
  },
  {
   "cell_type": "markdown",
   "id": "85bcf60e",
   "metadata": {},
   "source": [
    "# 4 now  we r going to create models to see the model performance with kbest features"
   ]
  },
  {
   "cell_type": "code",
   "execution_count": null,
   "id": "593e71f1",
   "metadata": {},
   "outputs": [],
   "source": [
    "\n"
   ]
  },
  {
   "cell_type": "code",
   "execution_count": 426,
   "id": "8d32f9e7",
   "metadata": {},
   "outputs": [],
   "source": [
    "\n",
    "accsvm=[]\n",
    "accs_MULTILINEAR=[]\n",
    "accRF=[]\n",
    "accDEC_tree=[]\n",
    "\n"
   ]
  },
  {
   "cell_type": "code",
   "execution_count": 427,
   "id": "830b80e5",
   "metadata": {},
   "outputs": [],
   "source": [
    "def r2_score(model,x_test,y_test):\n",
    "    from sklearn.metrics import r2_score\n",
    "    y_predict=model.predict(x_test)\n",
    "    r_score=r2_score(y_test,y_predict)\n",
    "    return r_score,model\n",
    "    "
   ]
  },
  {
   "cell_type": "code",
   "execution_count": 428,
   "id": "bf421396",
   "metadata": {},
   "outputs": [],
   "source": [
    "def lin_reg(x_train,y_train,x_test,y_test):\n",
    "    from sklearn.linear_model import LinearRegression\n",
    "    from sklearn.model_selection import GridSearchCV\n",
    "    model=LinearRegression()\n",
    "    param_grid={\"fit_intercept\":[True,False]}\n",
    "    grid_Search= GridSearchCV(model,param_grid,verbose=3,n_jobs=1,refit=True)\n",
    "    grid_Search.fit(x_train,y_train)\n",
    "    r_score,model=r2_score(grid_Search,x_test,y_test)\n",
    "    return r_score,model"
   ]
  },
  {
   "cell_type": "code",
   "execution_count": 429,
   "id": "b99f226b",
   "metadata": {},
   "outputs": [
    {
     "name": "stdout",
     "output_type": "stream",
     "text": [
      "Fitting 5 folds for each of 2 candidates, totalling 10 fits\n",
      "[CV 1/5] END ................fit_intercept=True;, score=0.489 total time=   0.0s\n",
      "[CV 2/5] END ................fit_intercept=True;, score=0.451 total time=   0.0s\n",
      "[CV 3/5] END ................fit_intercept=True;, score=0.450 total time=   0.0s\n",
      "[CV 4/5] END ................fit_intercept=True;, score=0.445 total time=   0.0s\n",
      "[CV 5/5] END ................fit_intercept=True;, score=0.465 total time=   0.0s\n",
      "[CV 1/5] END ..............fit_intercept=False;, score=-2.628 total time=   0.0s\n",
      "[CV 2/5] END ..............fit_intercept=False;, score=-2.849 total time=   0.0s\n",
      "[CV 3/5] END ..............fit_intercept=False;, score=-2.998 total time=   0.0s\n",
      "[CV 4/5] END ..............fit_intercept=False;, score=-3.564 total time=   0.0s\n",
      "[CV 5/5] END ..............fit_intercept=False;, score=-2.849 total time=   0.0s\n"
     ]
    }
   ],
   "source": [
    "R2_score,model=lin_reg(x_train,y_train,x_test,y_test)\n",
    "accs_MULTILINEAR.append(R2_score)"
   ]
  },
  {
   "cell_type": "code",
   "execution_count": 430,
   "id": "4dba670b",
   "metadata": {},
   "outputs": [
    {
     "data": {
      "text/plain": [
       "[0.475048248166564]"
      ]
     },
     "execution_count": 430,
     "metadata": {},
     "output_type": "execute_result"
    }
   ],
   "source": [
    "accs_MULTILINEAR"
   ]
  },
  {
   "cell_type": "code",
   "execution_count": null,
   "id": "ad2b7559",
   "metadata": {},
   "outputs": [],
   "source": []
  },
  {
   "cell_type": "code",
   "execution_count": 431,
   "id": "a48757fa",
   "metadata": {},
   "outputs": [],
   "source": [
    "def svm(x_train,y_train,x_test,y_test):\n",
    "    from sklearn.svm import SVR\n",
    "    from sklearn.model_selection import GridSearchCV\n",
    "    model=SVR()\n",
    "    param_grid={\"kernel\":[\"poly\",\"sigmoid\",\"rbf\"],\"C\":[0.1,1,10]}\n",
    "    grid_search = GridSearchCV(model,param_grid,verbose=3,n_jobs=1,refit=True)\n",
    "    grid_search.fit(x_train,y_train)\n",
    "    R2_score,model=r2_score(grid_search,x_test,y_test)\n",
    "    return R2_score,model"
   ]
  },
  {
   "cell_type": "code",
   "execution_count": 432,
   "id": "ed2d2cdc",
   "metadata": {},
   "outputs": [
    {
     "name": "stdout",
     "output_type": "stream",
     "text": [
      "Fitting 5 folds for each of 9 candidates, totalling 45 fits\n",
      "[CV 1/5] END ...............C=0.1, kernel=poly;, score=-0.027 total time=   0.0s\n",
      "[CV 2/5] END ...............C=0.1, kernel=poly;, score=-0.054 total time=   0.0s\n",
      "[CV 3/5] END ...............C=0.1, kernel=poly;, score=-0.026 total time=   0.0s\n",
      "[CV 4/5] END ...............C=0.1, kernel=poly;, score=-0.033 total time=   0.0s\n",
      "[CV 5/5] END ...............C=0.1, kernel=poly;, score=-0.035 total time=   0.0s\n",
      "[CV 1/5] END ............C=0.1, kernel=sigmoid;, score=-0.028 total time=   0.0s\n",
      "[CV 2/5] END ............C=0.1, kernel=sigmoid;, score=-0.054 total time=   0.0s\n",
      "[CV 3/5] END ............C=0.1, kernel=sigmoid;, score=-0.027 total time=   0.0s\n",
      "[CV 4/5] END ............C=0.1, kernel=sigmoid;, score=-0.033 total time=   0.0s\n",
      "[CV 5/5] END ............C=0.1, kernel=sigmoid;, score=-0.035 total time=   0.0s\n",
      "[CV 1/5] END ................C=0.1, kernel=rbf;, score=-0.028 total time=   0.0s\n",
      "[CV 2/5] END ................C=0.1, kernel=rbf;, score=-0.054 total time=   0.0s\n",
      "[CV 3/5] END ................C=0.1, kernel=rbf;, score=-0.027 total time=   0.0s\n",
      "[CV 4/5] END ................C=0.1, kernel=rbf;, score=-0.033 total time=   0.0s\n",
      "[CV 5/5] END ................C=0.1, kernel=rbf;, score=-0.035 total time=   0.0s\n",
      "[CV 1/5] END .................C=1, kernel=poly;, score=-0.019 total time=   0.0s\n",
      "[CV 2/5] END .................C=1, kernel=poly;, score=-0.047 total time=   0.0s\n",
      "[CV 3/5] END .................C=1, kernel=poly;, score=-0.019 total time=   0.0s\n",
      "[CV 4/5] END .................C=1, kernel=poly;, score=-0.023 total time=   0.0s\n",
      "[CV 5/5] END .................C=1, kernel=poly;, score=-0.030 total time=   0.0s\n",
      "[CV 1/5] END ..............C=1, kernel=sigmoid;, score=-0.024 total time=   0.0s\n",
      "[CV 2/5] END ..............C=1, kernel=sigmoid;, score=-0.051 total time=   0.0s\n",
      "[CV 3/5] END ..............C=1, kernel=sigmoid;, score=-0.022 total time=   0.0s\n",
      "[CV 4/5] END ..............C=1, kernel=sigmoid;, score=-0.029 total time=   0.0s\n",
      "[CV 5/5] END ..............C=1, kernel=sigmoid;, score=-0.032 total time=   0.0s\n",
      "[CV 1/5] END ..................C=1, kernel=rbf;, score=-0.026 total time=   0.0s\n",
      "[CV 2/5] END ..................C=1, kernel=rbf;, score=-0.053 total time=   0.0s\n",
      "[CV 3/5] END ..................C=1, kernel=rbf;, score=-0.025 total time=   0.0s\n",
      "[CV 4/5] END ..................C=1, kernel=rbf;, score=-0.032 total time=   0.0s\n",
      "[CV 5/5] END ..................C=1, kernel=rbf;, score=-0.034 total time=   0.0s\n",
      "[CV 1/5] END .................C=10, kernel=poly;, score=0.050 total time=   0.0s\n",
      "[CV 2/5] END .................C=10, kernel=poly;, score=0.013 total time=   0.0s\n",
      "[CV 3/5] END .................C=10, kernel=poly;, score=0.051 total time=   0.0s\n",
      "[CV 4/5] END .................C=10, kernel=poly;, score=0.041 total time=   0.0s\n",
      "[CV 5/5] END .................C=10, kernel=poly;, score=0.023 total time=   0.0s\n",
      "[CV 1/5] END ..............C=10, kernel=sigmoid;, score=0.014 total time=   0.0s\n",
      "[CV 2/5] END .............C=10, kernel=sigmoid;, score=-0.019 total time=   0.0s\n",
      "[CV 3/5] END ..............C=10, kernel=sigmoid;, score=0.017 total time=   0.0s\n",
      "[CV 4/5] END ..............C=10, kernel=sigmoid;, score=0.013 total time=   0.0s\n",
      "[CV 5/5] END ..............C=10, kernel=sigmoid;, score=0.001 total time=   0.0s\n",
      "[CV 1/5] END .................C=10, kernel=rbf;, score=-0.011 total time=   0.0s\n",
      "[CV 2/5] END .................C=10, kernel=rbf;, score=-0.040 total time=   0.0s\n",
      "[CV 3/5] END .................C=10, kernel=rbf;, score=-0.008 total time=   0.0s\n",
      "[CV 4/5] END .................C=10, kernel=rbf;, score=-0.015 total time=   0.0s\n",
      "[CV 5/5] END .................C=10, kernel=rbf;, score=-0.021 total time=   0.0s\n"
     ]
    }
   ],
   "source": [
    "R2_score,model=svm(x_train,y_train,x_test,y_test)\n",
    "accsvm.append(R2_score)"
   ]
  },
  {
   "cell_type": "code",
   "execution_count": 433,
   "id": "1ae04140",
   "metadata": {},
   "outputs": [
    {
     "data": {
      "text/plain": [
       "[0.00811201111132931]"
      ]
     },
     "execution_count": 433,
     "metadata": {},
     "output_type": "execute_result"
    }
   ],
   "source": [
    "accsvm"
   ]
  },
  {
   "cell_type": "code",
   "execution_count": 434,
   "id": "42fe2773",
   "metadata": {},
   "outputs": [],
   "source": [
    "from sklearn.tree import DecisionTreeRegressor"
   ]
  },
  {
   "cell_type": "code",
   "execution_count": 435,
   "id": "28a57274",
   "metadata": {},
   "outputs": [],
   "source": [
    "def decision_tree(x_train,y_train,x_test,y_test):\n",
    "    from sklearn.tree import DecisionTreeRegressor\n",
    "    from sklearn.model_selection import GridSearchCV\n",
    "    model=DecisionTreeRegressor()\n",
    "    param_grid={\"criterion\":[\"friedman_mse\",\"squared_error\"],\"splitter\":[\"random\",\"best\"],\"max_depth\":[None,5,10]}\n",
    "    grid_search=GridSearchCV(model,param_grid,verbose=3,n_jobs=1,refit=True)\n",
    "    grid_search.fit(x_train,y_train)\n",
    "    R2_score,model=r2_score(grid_search,x_test,y_test)\n",
    "    return R2_score,model\n",
    "    "
   ]
  },
  {
   "cell_type": "code",
   "execution_count": 436,
   "id": "72b9e8af",
   "metadata": {},
   "outputs": [
    {
     "name": "stdout",
     "output_type": "stream",
     "text": [
      "Fitting 5 folds for each of 12 candidates, totalling 60 fits\n",
      "[CV 1/5] END criterion=friedman_mse, max_depth=None, splitter=random;, score=0.599 total time=   0.0s\n",
      "[CV 2/5] END criterion=friedman_mse, max_depth=None, splitter=random;, score=0.652 total time=   0.0s\n",
      "[CV 3/5] END criterion=friedman_mse, max_depth=None, splitter=random;, score=0.516 total time=   0.0s\n",
      "[CV 4/5] END criterion=friedman_mse, max_depth=None, splitter=random;, score=0.594 total time=   0.0s\n",
      "[CV 5/5] END criterion=friedman_mse, max_depth=None, splitter=random;, score=0.576 total time=   0.0s\n",
      "[CV 1/5] END criterion=friedman_mse, max_depth=None, splitter=best;, score=0.612 total time=   0.0s\n",
      "[CV 2/5] END criterion=friedman_mse, max_depth=None, splitter=best;, score=0.584 total time=   0.0s\n",
      "[CV 3/5] END criterion=friedman_mse, max_depth=None, splitter=best;, score=0.554 total time=   0.0s\n",
      "[CV 4/5] END criterion=friedman_mse, max_depth=None, splitter=best;, score=0.601 total time=   0.0s\n",
      "[CV 5/5] END criterion=friedman_mse, max_depth=None, splitter=best;, score=0.589 total time=   0.0s\n",
      "[CV 1/5] END criterion=friedman_mse, max_depth=5, splitter=random;, score=0.523 total time=   0.0s\n",
      "[CV 2/5] END criterion=friedman_mse, max_depth=5, splitter=random;, score=0.510 total time=   0.0s\n",
      "[CV 3/5] END criterion=friedman_mse, max_depth=5, splitter=random;, score=0.628 total time=   0.0s\n",
      "[CV 4/5] END criterion=friedman_mse, max_depth=5, splitter=random;, score=0.548 total time=   0.0s\n",
      "[CV 5/5] END criterion=friedman_mse, max_depth=5, splitter=random;, score=0.505 total time=   0.0s\n",
      "[CV 1/5] END criterion=friedman_mse, max_depth=5, splitter=best;, score=0.571 total time=   0.0s\n",
      "[CV 2/5] END criterion=friedman_mse, max_depth=5, splitter=best;, score=0.550 total time=   0.0s\n",
      "[CV 3/5] END criterion=friedman_mse, max_depth=5, splitter=best;, score=0.604 total time=   0.0s\n",
      "[CV 4/5] END criterion=friedman_mse, max_depth=5, splitter=best;, score=0.560 total time=   0.0s\n",
      "[CV 5/5] END criterion=friedman_mse, max_depth=5, splitter=best;, score=0.535 total time=   0.0s\n",
      "[CV 1/5] END criterion=friedman_mse, max_depth=10, splitter=random;, score=0.483 total time=   0.0s\n",
      "[CV 2/5] END criterion=friedman_mse, max_depth=10, splitter=random;, score=0.579 total time=   0.0s\n",
      "[CV 3/5] END criterion=friedman_mse, max_depth=10, splitter=random;, score=0.578 total time=   0.0s\n",
      "[CV 4/5] END criterion=friedman_mse, max_depth=10, splitter=random;, score=0.542 total time=   0.0s\n",
      "[CV 5/5] END criterion=friedman_mse, max_depth=10, splitter=random;, score=0.606 total time=   0.0s\n",
      "[CV 1/5] END criterion=friedman_mse, max_depth=10, splitter=best;, score=0.605 total time=   0.0s\n",
      "[CV 2/5] END criterion=friedman_mse, max_depth=10, splitter=best;, score=0.624 total time=   0.0s\n",
      "[CV 3/5] END criterion=friedman_mse, max_depth=10, splitter=best;, score=0.552 total time=   0.0s\n",
      "[CV 4/5] END criterion=friedman_mse, max_depth=10, splitter=best;, score=0.608 total time=   0.0s\n",
      "[CV 5/5] END criterion=friedman_mse, max_depth=10, splitter=best;, score=0.615 total time=   0.0s\n",
      "[CV 1/5] END criterion=squared_error, max_depth=None, splitter=random;, score=0.559 total time=   0.0s\n",
      "[CV 2/5] END criterion=squared_error, max_depth=None, splitter=random;, score=0.671 total time=   0.0s\n",
      "[CV 3/5] END criterion=squared_error, max_depth=None, splitter=random;, score=0.665 total time=   0.0s\n",
      "[CV 4/5] END criterion=squared_error, max_depth=None, splitter=random;, score=0.633 total time=   0.0s\n",
      "[CV 5/5] END criterion=squared_error, max_depth=None, splitter=random;, score=0.574 total time=   0.0s\n",
      "[CV 1/5] END criterion=squared_error, max_depth=None, splitter=best;, score=0.631 total time=   0.0s\n",
      "[CV 2/5] END criterion=squared_error, max_depth=None, splitter=best;, score=0.556 total time=   0.0s\n",
      "[CV 3/5] END criterion=squared_error, max_depth=None, splitter=best;, score=0.594 total time=   0.0s\n",
      "[CV 4/5] END criterion=squared_error, max_depth=None, splitter=best;, score=0.584 total time=   0.0s\n",
      "[CV 5/5] END criterion=squared_error, max_depth=None, splitter=best;, score=0.548 total time=   0.0s\n",
      "[CV 1/5] END criterion=squared_error, max_depth=5, splitter=random;, score=0.594 total time=   0.0s\n",
      "[CV 2/5] END criterion=squared_error, max_depth=5, splitter=random;, score=0.545 total time=   0.0s\n",
      "[CV 3/5] END criterion=squared_error, max_depth=5, splitter=random;, score=0.594 total time=   0.0s\n",
      "[CV 4/5] END criterion=squared_error, max_depth=5, splitter=random;, score=0.472 total time=   0.0s\n",
      "[CV 5/5] END criterion=squared_error, max_depth=5, splitter=random;, score=0.549 total time=   0.0s\n",
      "[CV 1/5] END criterion=squared_error, max_depth=5, splitter=best;, score=0.571 total time=   0.0s\n",
      "[CV 2/5] END criterion=squared_error, max_depth=5, splitter=best;, score=0.550 total time=   0.0s\n",
      "[CV 3/5] END criterion=squared_error, max_depth=5, splitter=best;, score=0.604 total time=   0.0s\n",
      "[CV 4/5] END criterion=squared_error, max_depth=5, splitter=best;, score=0.560 total time=   0.0s\n",
      "[CV 5/5] END criterion=squared_error, max_depth=5, splitter=best;, score=0.533 total time=   0.0s\n",
      "[CV 1/5] END criterion=squared_error, max_depth=10, splitter=random;, score=0.538 total time=   0.0s\n",
      "[CV 2/5] END criterion=squared_error, max_depth=10, splitter=random;, score=0.583 total time=   0.0s\n",
      "[CV 3/5] END criterion=squared_error, max_depth=10, splitter=random;, score=0.563 total time=   0.0s\n",
      "[CV 4/5] END criterion=squared_error, max_depth=10, splitter=random;, score=0.506 total time=   0.0s\n",
      "[CV 5/5] END criterion=squared_error, max_depth=10, splitter=random;, score=0.576 total time=   0.0s\n",
      "[CV 1/5] END criterion=squared_error, max_depth=10, splitter=best;, score=0.600 total time=   0.0s\n",
      "[CV 2/5] END criterion=squared_error, max_depth=10, splitter=best;, score=0.639 total time=   0.0s\n",
      "[CV 3/5] END criterion=squared_error, max_depth=10, splitter=best;, score=0.555 total time=   0.0s\n",
      "[CV 4/5] END criterion=squared_error, max_depth=10, splitter=best;, score=0.609 total time=   0.0s\n",
      "[CV 5/5] END criterion=squared_error, max_depth=10, splitter=best;, score=0.562 total time=   0.0s\n"
     ]
    }
   ],
   "source": [
    "R2_score,model=decision_tree(x_train,y_train,x_test,y_test)\n",
    "accDEC_tree.append(R2_score)"
   ]
  },
  {
   "cell_type": "code",
   "execution_count": 437,
   "id": "7a70c3a1",
   "metadata": {},
   "outputs": [
    {
     "data": {
      "text/plain": [
       "[0.6340542768359769]"
      ]
     },
     "execution_count": 437,
     "metadata": {},
     "output_type": "execute_result"
    }
   ],
   "source": [
    "accDEC_tree"
   ]
  },
  {
   "cell_type": "code",
   "execution_count": 438,
   "id": "a2629e65",
   "metadata": {},
   "outputs": [],
   "source": [
    "from sklearn.ensemble import RandomForestRegressor\n",
    "from sklearn.model_selection import GridSearchCV"
   ]
  },
  {
   "cell_type": "code",
   "execution_count": 476,
   "id": "f4aae75c",
   "metadata": {},
   "outputs": [],
   "source": [
    "def random_forest(x_train,y_train,x_test,y_test):\n",
    "    from sklearn.ensemble import RandomForestRegressor\n",
    "    from sklearn.model_selection import GridSearchCV\n",
    "    model=RandomForestRegressor()\n",
    "    param_grid={\"n_estimators\": [100, 200, 500],\"criterion\":[\"friedman_mse\",\"squared_error\"],\"max_depth\":[None,5,10]}\n",
    "    grid_search=GridSearchCV(model,param_grid,verbose=3,n_jobs=1,refit=True)\n",
    "    grid_search.fit(x_train,y_train)\n",
    "    fin_model=grid_search.best_estimator_ \n",
    "    R2_score,model=r2_score(grid_search,x_test,y_test)\n",
    "    return R2_score,fin_model"
   ]
  },
  {
   "cell_type": "code",
   "execution_count": 477,
   "id": "4da2e1c9",
   "metadata": {},
   "outputs": [
    {
     "name": "stdout",
     "output_type": "stream",
     "text": [
      "Fitting 5 folds for each of 18 candidates, totalling 90 fits\n",
      "[CV 1/5] END criterion=friedman_mse, max_depth=None, n_estimators=100;, score=0.673 total time=   0.3s\n",
      "[CV 2/5] END criterion=friedman_mse, max_depth=None, n_estimators=100;, score=0.686 total time=   0.2s\n",
      "[CV 3/5] END criterion=friedman_mse, max_depth=None, n_estimators=100;, score=0.688 total time=   0.2s\n",
      "[CV 4/5] END criterion=friedman_mse, max_depth=None, n_estimators=100;, score=0.723 total time=   0.2s\n",
      "[CV 5/5] END criterion=friedman_mse, max_depth=None, n_estimators=100;, score=0.697 total time=   0.2s\n",
      "[CV 1/5] END criterion=friedman_mse, max_depth=None, n_estimators=200;, score=0.675 total time=   0.6s\n",
      "[CV 2/5] END criterion=friedman_mse, max_depth=None, n_estimators=200;, score=0.689 total time=   0.6s\n",
      "[CV 3/5] END criterion=friedman_mse, max_depth=None, n_estimators=200;, score=0.696 total time=   0.6s\n",
      "[CV 4/5] END criterion=friedman_mse, max_depth=None, n_estimators=200;, score=0.716 total time=   0.6s\n",
      "[CV 5/5] END criterion=friedman_mse, max_depth=None, n_estimators=200;, score=0.700 total time=   0.6s\n",
      "[CV 1/5] END criterion=friedman_mse, max_depth=None, n_estimators=500;, score=0.674 total time=   1.6s\n",
      "[CV 2/5] END criterion=friedman_mse, max_depth=None, n_estimators=500;, score=0.691 total time=   1.6s\n",
      "[CV 3/5] END criterion=friedman_mse, max_depth=None, n_estimators=500;, score=0.688 total time=   1.6s\n",
      "[CV 4/5] END criterion=friedman_mse, max_depth=None, n_estimators=500;, score=0.714 total time=   1.6s\n",
      "[CV 5/5] END criterion=friedman_mse, max_depth=None, n_estimators=500;, score=0.704 total time=   1.6s\n",
      "[CV 1/5] END criterion=friedman_mse, max_depth=5, n_estimators=100;, score=0.623 total time=   0.2s\n",
      "[CV 2/5] END criterion=friedman_mse, max_depth=5, n_estimators=100;, score=0.604 total time=   0.1s\n",
      "[CV 3/5] END criterion=friedman_mse, max_depth=5, n_estimators=100;, score=0.675 total time=   0.1s\n",
      "[CV 4/5] END criterion=friedman_mse, max_depth=5, n_estimators=100;, score=0.639 total time=   0.2s\n",
      "[CV 5/5] END criterion=friedman_mse, max_depth=5, n_estimators=100;, score=0.638 total time=   0.1s\n",
      "[CV 1/5] END criterion=friedman_mse, max_depth=5, n_estimators=200;, score=0.627 total time=   0.4s\n",
      "[CV 2/5] END criterion=friedman_mse, max_depth=5, n_estimators=200;, score=0.599 total time=   0.4s\n",
      "[CV 3/5] END criterion=friedman_mse, max_depth=5, n_estimators=200;, score=0.666 total time=   0.4s\n",
      "[CV 4/5] END criterion=friedman_mse, max_depth=5, n_estimators=200;, score=0.647 total time=   0.4s\n",
      "[CV 5/5] END criterion=friedman_mse, max_depth=5, n_estimators=200;, score=0.634 total time=   0.4s\n",
      "[CV 1/5] END criterion=friedman_mse, max_depth=5, n_estimators=500;, score=0.626 total time=   1.2s\n",
      "[CV 2/5] END criterion=friedman_mse, max_depth=5, n_estimators=500;, score=0.604 total time=   1.2s\n",
      "[CV 3/5] END criterion=friedman_mse, max_depth=5, n_estimators=500;, score=0.674 total time=   1.3s\n",
      "[CV 4/5] END criterion=friedman_mse, max_depth=5, n_estimators=500;, score=0.643 total time=   1.8s\n",
      "[CV 5/5] END criterion=friedman_mse, max_depth=5, n_estimators=500;, score=0.639 total time=   1.1s\n",
      "[CV 1/5] END criterion=friedman_mse, max_depth=10, n_estimators=100;, score=0.666 total time=   0.2s\n",
      "[CV 2/5] END criterion=friedman_mse, max_depth=10, n_estimators=100;, score=0.692 total time=   0.2s\n",
      "[CV 3/5] END criterion=friedman_mse, max_depth=10, n_estimators=100;, score=0.692 total time=   0.2s\n",
      "[CV 4/5] END criterion=friedman_mse, max_depth=10, n_estimators=100;, score=0.713 total time=   0.2s\n",
      "[CV 5/5] END criterion=friedman_mse, max_depth=10, n_estimators=100;, score=0.705 total time=   0.2s\n",
      "[CV 1/5] END criterion=friedman_mse, max_depth=10, n_estimators=200;, score=0.670 total time=   0.5s\n",
      "[CV 2/5] END criterion=friedman_mse, max_depth=10, n_estimators=200;, score=0.688 total time=   0.5s\n",
      "[CV 3/5] END criterion=friedman_mse, max_depth=10, n_estimators=200;, score=0.696 total time=   0.5s\n",
      "[CV 4/5] END criterion=friedman_mse, max_depth=10, n_estimators=200;, score=0.712 total time=   0.6s\n",
      "[CV 5/5] END criterion=friedman_mse, max_depth=10, n_estimators=200;, score=0.703 total time=   0.5s\n",
      "[CV 1/5] END criterion=friedman_mse, max_depth=10, n_estimators=500;, score=0.672 total time=   1.4s\n",
      "[CV 2/5] END criterion=friedman_mse, max_depth=10, n_estimators=500;, score=0.690 total time=   1.4s\n",
      "[CV 3/5] END criterion=friedman_mse, max_depth=10, n_estimators=500;, score=0.697 total time=   1.5s\n",
      "[CV 4/5] END criterion=friedman_mse, max_depth=10, n_estimators=500;, score=0.714 total time=   1.4s\n",
      "[CV 5/5] END criterion=friedman_mse, max_depth=10, n_estimators=500;, score=0.700 total time=   1.4s\n",
      "[CV 1/5] END criterion=squared_error, max_depth=None, n_estimators=100;, score=0.673 total time=   0.2s\n",
      "[CV 2/5] END criterion=squared_error, max_depth=None, n_estimators=100;, score=0.692 total time=   0.2s\n",
      "[CV 3/5] END criterion=squared_error, max_depth=None, n_estimators=100;, score=0.683 total time=   0.2s\n",
      "[CV 4/5] END criterion=squared_error, max_depth=None, n_estimators=100;, score=0.721 total time=   0.2s\n",
      "[CV 5/5] END criterion=squared_error, max_depth=None, n_estimators=100;, score=0.697 total time=   0.3s\n",
      "[CV 1/5] END criterion=squared_error, max_depth=None, n_estimators=200;, score=0.671 total time=   0.6s\n",
      "[CV 2/5] END criterion=squared_error, max_depth=None, n_estimators=200;, score=0.688 total time=   0.7s\n",
      "[CV 3/5] END criterion=squared_error, max_depth=None, n_estimators=200;, score=0.696 total time=   0.7s\n",
      "[CV 4/5] END criterion=squared_error, max_depth=None, n_estimators=200;, score=0.724 total time=   0.6s\n",
      "[CV 5/5] END criterion=squared_error, max_depth=None, n_estimators=200;, score=0.703 total time=   0.6s\n",
      "[CV 1/5] END criterion=squared_error, max_depth=None, n_estimators=500;, score=0.672 total time=   1.6s\n",
      "[CV 2/5] END criterion=squared_error, max_depth=None, n_estimators=500;, score=0.690 total time=   1.6s\n",
      "[CV 3/5] END criterion=squared_error, max_depth=None, n_estimators=500;, score=0.689 total time=   1.5s\n",
      "[CV 4/5] END criterion=squared_error, max_depth=None, n_estimators=500;, score=0.719 total time=   1.6s\n",
      "[CV 5/5] END criterion=squared_error, max_depth=None, n_estimators=500;, score=0.700 total time=   1.7s\n",
      "[CV 1/5] END criterion=squared_error, max_depth=5, n_estimators=100;, score=0.629 total time=   0.2s\n",
      "[CV 2/5] END criterion=squared_error, max_depth=5, n_estimators=100;, score=0.602 total time=   0.1s\n",
      "[CV 3/5] END criterion=squared_error, max_depth=5, n_estimators=100;, score=0.671 total time=   0.1s\n",
      "[CV 4/5] END criterion=squared_error, max_depth=5, n_estimators=100;, score=0.645 total time=   0.2s\n",
      "[CV 5/5] END criterion=squared_error, max_depth=5, n_estimators=100;, score=0.636 total time=   0.1s\n",
      "[CV 1/5] END criterion=squared_error, max_depth=5, n_estimators=200;, score=0.622 total time=   0.4s\n",
      "[CV 2/5] END criterion=squared_error, max_depth=5, n_estimators=200;, score=0.605 total time=   0.4s\n",
      "[CV 3/5] END criterion=squared_error, max_depth=5, n_estimators=200;, score=0.665 total time=   0.4s\n",
      "[CV 4/5] END criterion=squared_error, max_depth=5, n_estimators=200;, score=0.643 total time=   0.4s\n",
      "[CV 5/5] END criterion=squared_error, max_depth=5, n_estimators=200;, score=0.641 total time=   0.4s\n",
      "[CV 1/5] END criterion=squared_error, max_depth=5, n_estimators=500;, score=0.629 total time=   1.1s\n",
      "[CV 2/5] END criterion=squared_error, max_depth=5, n_estimators=500;, score=0.608 total time=   1.1s\n",
      "[CV 3/5] END criterion=squared_error, max_depth=5, n_estimators=500;, score=0.672 total time=   1.1s\n",
      "[CV 4/5] END criterion=squared_error, max_depth=5, n_estimators=500;, score=0.645 total time=   1.1s\n",
      "[CV 5/5] END criterion=squared_error, max_depth=5, n_estimators=500;, score=0.640 total time=   1.0s\n",
      "[CV 1/5] END criterion=squared_error, max_depth=10, n_estimators=100;, score=0.670 total time=   0.2s\n",
      "[CV 2/5] END criterion=squared_error, max_depth=10, n_estimators=100;, score=0.692 total time=   0.2s\n",
      "[CV 3/5] END criterion=squared_error, max_depth=10, n_estimators=100;, score=0.697 total time=   0.2s\n",
      "[CV 4/5] END criterion=squared_error, max_depth=10, n_estimators=100;, score=0.716 total time=   0.2s\n",
      "[CV 5/5] END criterion=squared_error, max_depth=10, n_estimators=100;, score=0.704 total time=   0.2s\n"
     ]
    },
    {
     "name": "stdout",
     "output_type": "stream",
     "text": [
      "[CV 1/5] END criterion=squared_error, max_depth=10, n_estimators=200;, score=0.668 total time=   0.5s\n",
      "[CV 2/5] END criterion=squared_error, max_depth=10, n_estimators=200;, score=0.693 total time=   0.5s\n",
      "[CV 3/5] END criterion=squared_error, max_depth=10, n_estimators=200;, score=0.704 total time=   0.6s\n",
      "[CV 4/5] END criterion=squared_error, max_depth=10, n_estimators=200;, score=0.715 total time=   0.5s\n",
      "[CV 5/5] END criterion=squared_error, max_depth=10, n_estimators=200;, score=0.700 total time=   0.5s\n",
      "[CV 1/5] END criterion=squared_error, max_depth=10, n_estimators=500;, score=0.670 total time=   1.4s\n",
      "[CV 2/5] END criterion=squared_error, max_depth=10, n_estimators=500;, score=0.688 total time=   1.4s\n",
      "[CV 3/5] END criterion=squared_error, max_depth=10, n_estimators=500;, score=0.700 total time=   1.4s\n",
      "[CV 4/5] END criterion=squared_error, max_depth=10, n_estimators=500;, score=0.721 total time=   1.4s\n",
      "[CV 5/5] END criterion=squared_error, max_depth=10, n_estimators=500;, score=0.703 total time=   1.4s\n"
     ]
    }
   ],
   "source": [
    "R2_score,model=random_forest(x_train,y_train,x_test,y_test)\n",
    "accRF.append(R2_score)"
   ]
  },
  {
   "cell_type": "code",
   "execution_count": 478,
   "id": "da7ce43f",
   "metadata": {},
   "outputs": [
    {
     "data": {
      "text/plain": [
       "RandomForestRegressor(n_estimators=200)"
      ]
     },
     "execution_count": 478,
     "metadata": {},
     "output_type": "execute_result"
    }
   ],
   "source": [
    "model"
   ]
  },
  {
   "cell_type": "code",
   "execution_count": 464,
   "id": "7b44e81c",
   "metadata": {},
   "outputs": [
    {
     "data": {
      "text/plain": [
       "[0.778027728215024, 0.7775686855920535]"
      ]
     },
     "execution_count": 464,
     "metadata": {},
     "output_type": "execute_result"
    }
   ],
   "source": [
    "accRF"
   ]
  },
  {
   "cell_type": "code",
   "execution_count": 443,
   "id": "1843c77f",
   "metadata": {},
   "outputs": [],
   "source": [
    "def selectk_classification(accs_MULTILINEAR,accsvm,accDEC_tree,accRF):\n",
    "    dataframe=pd.DataFrame(index=[\"f_regression\"],columns=[\"multilinear\",\"svm\",\"decisiontree\",\"RF\"])\n",
    "    for number,idex in enumerate(dataframe.index):\n",
    "                           dataframe[\"multilinear\"][idex]=accs_MULTILINEAR[number]\n",
    "                           dataframe[\"svm\"][idex]=accsvm[number]\n",
    "                           dataframe[\"decisiontree\"][idex]=accDEC_tree[number]\n",
    "                           dataframe[\"RF\"][idex]=accRF[number]\n",
    "    return dataframe\n",
    "   "
   ]
  },
  {
   "cell_type": "code",
   "execution_count": 444,
   "id": "404760a0",
   "metadata": {},
   "outputs": [],
   "source": [
    "result1=selectk_classification(accs_MULTILINEAR,accsvm,accDEC_tree,accRF)"
   ]
  },
  {
   "cell_type": "code",
   "execution_count": 445,
   "id": "679b42b8",
   "metadata": {},
   "outputs": [
    {
     "data": {
      "text/html": [
       "<div>\n",
       "<style scoped>\n",
       "    .dataframe tbody tr th:only-of-type {\n",
       "        vertical-align: middle;\n",
       "    }\n",
       "\n",
       "    .dataframe tbody tr th {\n",
       "        vertical-align: top;\n",
       "    }\n",
       "\n",
       "    .dataframe thead th {\n",
       "        text-align: right;\n",
       "    }\n",
       "</style>\n",
       "<table border=\"1\" class=\"dataframe\">\n",
       "  <thead>\n",
       "    <tr style=\"text-align: right;\">\n",
       "      <th></th>\n",
       "      <th>multilinear</th>\n",
       "      <th>svm</th>\n",
       "      <th>decisiontree</th>\n",
       "      <th>RF</th>\n",
       "    </tr>\n",
       "  </thead>\n",
       "  <tbody>\n",
       "    <tr>\n",
       "      <th>f_regression</th>\n",
       "      <td>0.475048</td>\n",
       "      <td>0.008112</td>\n",
       "      <td>0.634054</td>\n",
       "      <td>0.778028</td>\n",
       "    </tr>\n",
       "  </tbody>\n",
       "</table>\n",
       "</div>"
      ],
      "text/plain": [
       "             multilinear       svm decisiontree        RF\n",
       "f_regression    0.475048  0.008112     0.634054  0.778028"
      ]
     },
     "execution_count": 445,
     "metadata": {},
     "output_type": "execute_result"
    }
   ],
   "source": [
    "result1# result1 for 5"
   ]
  },
  {
   "cell_type": "code",
   "execution_count": 322,
   "id": "da75ca71",
   "metadata": {},
   "outputs": [
    {
     "data": {
      "text/html": [
       "<div>\n",
       "<style scoped>\n",
       "    .dataframe tbody tr th:only-of-type {\n",
       "        vertical-align: middle;\n",
       "    }\n",
       "\n",
       "    .dataframe tbody tr th {\n",
       "        vertical-align: top;\n",
       "    }\n",
       "\n",
       "    .dataframe thead th {\n",
       "        text-align: right;\n",
       "    }\n",
       "</style>\n",
       "<table border=\"1\" class=\"dataframe\">\n",
       "  <thead>\n",
       "    <tr style=\"text-align: right;\">\n",
       "      <th></th>\n",
       "      <th>multilinear</th>\n",
       "      <th>svm</th>\n",
       "      <th>decisiontree</th>\n",
       "      <th>RF</th>\n",
       "    </tr>\n",
       "  </thead>\n",
       "  <tbody>\n",
       "    <tr>\n",
       "      <th>f_regression</th>\n",
       "      <td>0.498917</td>\n",
       "      <td>-0.028345</td>\n",
       "      <td>0.614015</td>\n",
       "      <td>0.759221</td>\n",
       "    </tr>\n",
       "  </tbody>\n",
       "</table>\n",
       "</div>"
      ],
      "text/plain": [
       "             multilinear       svm decisiontree        RF\n",
       "f_regression    0.498917 -0.028345     0.614015  0.759221"
      ]
     },
     "execution_count": 322,
     "metadata": {},
     "output_type": "execute_result"
    }
   ],
   "source": [
    "result1# result1 for 7"
   ]
  },
  {
   "cell_type": "code",
   "execution_count": 345,
   "id": "c8025e45",
   "metadata": {},
   "outputs": [
    {
     "data": {
      "text/html": [
       "<div>\n",
       "<style scoped>\n",
       "    .dataframe tbody tr th:only-of-type {\n",
       "        vertical-align: middle;\n",
       "    }\n",
       "\n",
       "    .dataframe tbody tr th {\n",
       "        vertical-align: top;\n",
       "    }\n",
       "\n",
       "    .dataframe thead th {\n",
       "        text-align: right;\n",
       "    }\n",
       "</style>\n",
       "<table border=\"1\" class=\"dataframe\">\n",
       "  <thead>\n",
       "    <tr style=\"text-align: right;\">\n",
       "      <th></th>\n",
       "      <th>multilinear</th>\n",
       "      <th>svm</th>\n",
       "      <th>decisiontree</th>\n",
       "      <th>RF</th>\n",
       "    </tr>\n",
       "  </thead>\n",
       "  <tbody>\n",
       "    <tr>\n",
       "      <th>f_regression</th>\n",
       "      <td>0.498614</td>\n",
       "      <td>-0.035742</td>\n",
       "      <td>0.69088</td>\n",
       "      <td>0.776141</td>\n",
       "    </tr>\n",
       "  </tbody>\n",
       "</table>\n",
       "</div>"
      ],
      "text/plain": [
       "             multilinear       svm decisiontree        RF\n",
       "f_regression    0.498614 -0.035742      0.69088  0.776141"
      ]
     },
     "execution_count": 345,
     "metadata": {},
     "output_type": "execute_result"
    }
   ],
   "source": [
    "result1# result1 for 8"
   ]
  },
  {
   "cell_type": "code",
   "execution_count": 368,
   "id": "cf01925f",
   "metadata": {},
   "outputs": [
    {
     "data": {
      "text/html": [
       "<div>\n",
       "<style scoped>\n",
       "    .dataframe tbody tr th:only-of-type {\n",
       "        vertical-align: middle;\n",
       "    }\n",
       "\n",
       "    .dataframe tbody tr th {\n",
       "        vertical-align: top;\n",
       "    }\n",
       "\n",
       "    .dataframe thead th {\n",
       "        text-align: right;\n",
       "    }\n",
       "</style>\n",
       "<table border=\"1\" class=\"dataframe\">\n",
       "  <thead>\n",
       "    <tr style=\"text-align: right;\">\n",
       "      <th></th>\n",
       "      <th>multilinear</th>\n",
       "      <th>svm</th>\n",
       "      <th>decisiontree</th>\n",
       "      <th>RF</th>\n",
       "    </tr>\n",
       "  </thead>\n",
       "  <tbody>\n",
       "    <tr>\n",
       "      <th>f_regression</th>\n",
       "      <td>0.42955</td>\n",
       "      <td>0.021915</td>\n",
       "      <td>0.617334</td>\n",
       "      <td>0.706621</td>\n",
       "    </tr>\n",
       "  </tbody>\n",
       "</table>\n",
       "</div>"
      ],
      "text/plain": [
       "             multilinear       svm decisiontree        RF\n",
       "f_regression     0.42955  0.021915     0.617334  0.706621"
      ]
     },
     "execution_count": 368,
     "metadata": {},
     "output_type": "execute_result"
    }
   ],
   "source": [
    "result1# for 4"
   ]
  },
  {
   "cell_type": "code",
   "execution_count": 480,
   "id": "e6527ad3",
   "metadata": {},
   "outputs": [],
   "source": [
    "final_model=model"
   ]
  },
  {
   "cell_type": "code",
   "execution_count": 481,
   "id": "61ce2591",
   "metadata": {},
   "outputs": [],
   "source": [
    "pickle.dump(final_model,open(\"model\",\"wb\"))"
   ]
  },
  {
   "cell_type": "code",
   "execution_count": 482,
   "id": "1744bd0a",
   "metadata": {},
   "outputs": [],
   "source": [
    "model=pickle.load(open(\"model\",\"rb\"))"
   ]
  },
  {
   "cell_type": "code",
   "execution_count": 483,
   "id": "274d7dbe",
   "metadata": {},
   "outputs": [
    {
     "data": {
      "text/plain": [
       "RandomForestRegressor(n_estimators=200)"
      ]
     },
     "execution_count": 483,
     "metadata": {},
     "output_type": "execute_result"
    }
   ],
   "source": [
    "model"
   ]
  },
  {
   "cell_type": "code",
   "execution_count": 484,
   "id": "7cc4164e",
   "metadata": {},
   "outputs": [
    {
     "data": {
      "text/plain": [
       "Index(['ScreenResolution', 'Cpu', 'Ram', 'Gpu', 'OpSys'], dtype='object')"
      ]
     },
     "execution_count": 484,
     "metadata": {},
     "output_type": "execute_result"
    }
   ],
   "source": [
    "selected_feature_names"
   ]
  },
  {
   "cell_type": "code",
   "execution_count": 485,
   "id": "1fe395e6",
   "metadata": {},
   "outputs": [],
   "source": [
    "independent=[[\"1440x900\",\"Intel Core i5 2.3GHz\",\"8GB\",\"Intel Iris Plus Graphics 640\",\"macOS\"]]"
   ]
  },
  {
   "cell_type": "code",
   "execution_count": 486,
   "id": "5ae5930a",
   "metadata": {},
   "outputs": [],
   "source": [
    "input_table=pd.DataFrame(independent,columns=selected_feature_names)"
   ]
  },
  {
   "cell_type": "code",
   "execution_count": 487,
   "id": "ea7e48c8",
   "metadata": {},
   "outputs": [],
   "source": [
    "scx=pickle.load(open(\"scx\",\"rb\"))\n",
    "encode=pickle.load(open(\"coding\",\"rb\"))"
   ]
  },
  {
   "cell_type": "code",
   "execution_count": 488,
   "id": "12508f9b",
   "metadata": {},
   "outputs": [],
   "source": [
    "for col in input_table:\n",
    "    input_table[col]=encode.fit_transform(input_table[col])"
   ]
  },
  {
   "cell_type": "code",
   "execution_count": 489,
   "id": "1a0eb293",
   "metadata": {
    "scrolled": true
   },
   "outputs": [
    {
     "data": {
      "text/html": [
       "<div>\n",
       "<style scoped>\n",
       "    .dataframe tbody tr th:only-of-type {\n",
       "        vertical-align: middle;\n",
       "    }\n",
       "\n",
       "    .dataframe tbody tr th {\n",
       "        vertical-align: top;\n",
       "    }\n",
       "\n",
       "    .dataframe thead th {\n",
       "        text-align: right;\n",
       "    }\n",
       "</style>\n",
       "<table border=\"1\" class=\"dataframe\">\n",
       "  <thead>\n",
       "    <tr style=\"text-align: right;\">\n",
       "      <th></th>\n",
       "      <th>ScreenResolution</th>\n",
       "      <th>Cpu</th>\n",
       "      <th>Ram</th>\n",
       "      <th>Gpu</th>\n",
       "      <th>OpSys</th>\n",
       "    </tr>\n",
       "  </thead>\n",
       "  <tbody>\n",
       "    <tr>\n",
       "      <th>0</th>\n",
       "      <td>0</td>\n",
       "      <td>0</td>\n",
       "      <td>0</td>\n",
       "      <td>0</td>\n",
       "      <td>0</td>\n",
       "    </tr>\n",
       "  </tbody>\n",
       "</table>\n",
       "</div>"
      ],
      "text/plain": [
       "   ScreenResolution  Cpu  Ram  Gpu  OpSys\n",
       "0                 0    0    0    0      0"
      ]
     },
     "execution_count": 489,
     "metadata": {},
     "output_type": "execute_result"
    }
   ],
   "source": [
    "input_table"
   ]
  },
  {
   "cell_type": "code",
   "execution_count": 490,
   "id": "afa73ff2",
   "metadata": {},
   "outputs": [
    {
     "name": "stderr",
     "output_type": "stream",
     "text": [
      "C:\\Users\\nimmy\\anaconda3\\envs\\aiml\\lib\\site-packages\\sklearn\\base.py:444: UserWarning: X has feature names, but StandardScaler was fitted without feature names\n",
      "  f\"X has feature names, but {self.__class__.__name__} was fitted without\"\n"
     ]
    }
   ],
   "source": [
    "final_input=scx.transform(input_table)"
   ]
  },
  {
   "cell_type": "code",
   "execution_count": 491,
   "id": "7891f2df",
   "metadata": {},
   "outputs": [
    {
     "data": {
      "text/plain": [
       "array([51549.32313943])"
      ]
     },
     "execution_count": 491,
     "metadata": {},
     "output_type": "execute_result"
    }
   ],
   "source": [
    "model.predict(final_input)"
   ]
  },
  {
   "cell_type": "code",
   "execution_count": null,
   "id": "a422e6ad",
   "metadata": {},
   "outputs": [],
   "source": []
  }
 ],
 "metadata": {
  "kernelspec": {
   "display_name": "Python 3 (ipykernel)",
   "language": "python",
   "name": "python3"
  },
  "language_info": {
   "codemirror_mode": {
    "name": "ipython",
    "version": 3
   },
   "file_extension": ".py",
   "mimetype": "text/x-python",
   "name": "python",
   "nbconvert_exporter": "python",
   "pygments_lexer": "ipython3",
   "version": "3.7.1"
  }
 },
 "nbformat": 4,
 "nbformat_minor": 5
}
